{
 "cells": [
  {
   "cell_type": "code",
   "execution_count": null,
   "metadata": {},
   "outputs": [],
   "source": [
    "import subprocess\n",
    "from train_vae import train_vae"
   ]
  },
  {
   "cell_type": "code",
   "execution_count": null,
   "metadata": {},
   "outputs": [],
   "source": [
    "ds_name = \"mnist\"\n",
    "in_dim = 784\n",
    "latent_dim = 64\n",
    "hidden_dim = 128\n",
    "\n",
    "vae1_size = 10000\n",
    "vae2_size_factors = [0.3, 0.5, 0.8, 0.9, 1.0, 1.5, 2.0, 4.0]\n",
    "vae2_sizes = [int(vae1_size * size_factor) for size_factor in vae2_size_factors]"
   ]
  },
  {
   "cell_type": "code",
   "execution_count": null,
   "metadata": {},
   "outputs": [],
   "source": [
    "# vae1\n",
    "_ = train_vae(ds_name, in_dim, latent_dim, hidden_dim, vae1_size)"
   ]
  },
  {
   "cell_type": "code",
   "execution_count": null,
   "metadata": {},
   "outputs": [],
   "source": [
    "# vae2\n",
    "for vae2_size in vae2_sizes:\n",
    "    _ = train_vae(ds_name, in_dim, latent_dim, hidden_dim, vae2_size)"
   ]
  },
  {
   "cell_type": "code",
   "execution_count": null,
   "metadata": {},
   "outputs": [],
   "source": [
    "\n",
    "output_dir: ./mnist_784_20_256"
   ]
  }
 ],
 "metadata": {
  "kernelspec": {
   "display_name": "default",
   "language": "python",
   "name": "python3"
  },
  "language_info": {
   "codemirror_mode": {
    "name": "ipython",
    "version": 3
   },
   "file_extension": ".py",
   "mimetype": "text/x-python",
   "name": "python",
   "nbconvert_exporter": "python",
   "pygments_lexer": "ipython3",
   "version": "3.9.18"
  }
 },
 "nbformat": 4,
 "nbformat_minor": 2
}
