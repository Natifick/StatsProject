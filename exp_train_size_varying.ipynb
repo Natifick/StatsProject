{
 "cells": [
  {
   "cell_type": "code",
   "execution_count": 22,
   "metadata": {},
   "outputs": [
    {
     "name": "stdout",
     "output_type": "stream",
     "text": [
      "The autoreload extension is already loaded. To reload it, use:\n",
      "  %reload_ext autoreload\n"
     ]
    }
   ],
   "source": [
    "%load_ext autoreload\n",
    "%autoreload 2"
   ]
  },
  {
   "cell_type": "code",
   "execution_count": 23,
   "metadata": {},
   "outputs": [
    {
     "data": {
      "text/plain": [
       "\"device = 'cuda'\""
      ]
     },
     "execution_count": 23,
     "metadata": {},
     "output_type": "execute_result"
    }
   ],
   "source": [
    "import torch\n",
    "import subprocess\n",
    "from train_vae import train_vae, MNISTDataset\n",
    "from vae import VAE\n",
    "from mmd import MMD_3_Sample_Test\n",
    "\n",
    "n_trials = 1\n",
    "device = \"cuda\" if torch.cuda.is_available() else \"cpu\"\n",
    "f\"{device = }\""
   ]
  },
  {
   "cell_type": "code",
   "execution_count": 28,
   "metadata": {},
   "outputs": [],
   "source": [
    "ds_name = \"mnist\"\n",
    "in_dim = 784\n",
    "latent_dim = 10\n",
    "hidden_dim = 64\n",
    "\n",
    "vae1_size = 5000\n",
    "vae2_size_factors = [0.3, 0.5, 0.9, 1.1, 1.5, 2.0]\n",
    "vae2_sizes = [int(vae1_size * size_factor) for size_factor in vae2_size_factors]\n",
    "\n",
    "size_to_output_dir = lambda size, num: f\"./mnist_{in_dim}_{latent_dim}_{hidden_dim}_{size}_{num}\""
   ]
  },
  {
   "cell_type": "code",
   "execution_count": 29,
   "metadata": {},
   "outputs": [],
   "source": [
    "%reload_ext autoreload"
   ]
  },
  {
   "cell_type": "code",
   "execution_count": 30,
   "metadata": {},
   "outputs": [
    {
     "name": "stdout",
     "output_type": "stream",
     "text": [
      "output_dir: ./mnist_784_10_64_5000_0\n",
      "output_file: ./mnist_784_10_64_5000_0/accuracy.txt\n"
     ]
    }
   ],
   "source": [
    "# vae1\n",
    "for i in range(n_trials):\n",
    "    _ = train_vae(ds_name, in_dim, latent_dim, hidden_dim, vae1_size, device=device)\n",
    "    subprocess.run([\"python\", \"compute_accuracy.py\", f\"{size_to_output_dir(vae1_size, i)}\"])\n",
    "\n",
    "vae1_score = 0.\n",
    "for i in range(n_trials):\n",
    "    output_dir = size_to_output_dir(vae1_size, i)\n",
    "    with open(f\"{output_dir}/accuracy.txt\") as file:\n",
    "        vae1_score += float(next(iter(file))[:-1]) / n_trials"
   ]
  },
  {
   "cell_type": "code",
   "execution_count": 31,
   "metadata": {},
   "outputs": [
    {
     "name": "stdout",
     "output_type": "stream",
     "text": [
      "output_dir: ./mnist_784_10_64_1500_0\n",
      "output_file: ./mnist_784_10_64_1500_0/accuracy.txt\n",
      "output_dir: ./mnist_784_10_64_2500_0\n",
      "output_file: ./mnist_784_10_64_2500_0/accuracy.txt\n",
      "output_dir: ./mnist_784_10_64_4500_0\n",
      "output_file: ./mnist_784_10_64_4500_0/accuracy.txt\n",
      "output_dir: ./mnist_784_10_64_5500_0\n",
      "output_file: ./mnist_784_10_64_5500_0/accuracy.txt\n",
      "output_dir: ./mnist_784_10_64_7500_0\n",
      "output_file: ./mnist_784_10_64_7500_0/accuracy.txt\n",
      "output_dir: ./mnist_784_10_64_10000_0\n",
      "output_file: ./mnist_784_10_64_10000_0/accuracy.txt\n"
     ]
    }
   ],
   "source": [
    "# vae2\n",
    "for vae2_size in vae2_sizes:\n",
    "    for i in range(n_trials):\n",
    "        _ = train_vae(ds_name, in_dim, latent_dim, hidden_dim, vae2_size, device=device)\n",
    "        subprocess.run([\"python\", \"compute_accuracy.py\", f\"{size_to_output_dir(vae2_size, i)}\"])\n",
    "\n",
    "vae2_scores = []\n",
    "for vae2_size in vae2_sizes:\n",
    "    score = 0\n",
    "    for i in range(n_trials):\n",
    "        output_dir = size_to_output_dir(vae2_size, i)\n",
    "        with open(f\"{output_dir}/accuracy.txt\") as file:\n",
    "            score += float(next(iter(file))[:-1]) / n_trials\n",
    "    vae2_scores.append(score)"
   ]
  },
  {
   "cell_type": "code",
   "execution_count": 33,
   "metadata": {},
   "outputs": [],
   "source": [
    "n_samples = 2000\n",
    "X = MNISTDataset(train=False).data"
   ]
  },
  {
   "cell_type": "code",
   "execution_count": 36,
   "metadata": {},
   "outputs": [
    {
     "name": "stdout",
     "output_type": "stream",
     "text": [
      "5000 1500\n"
     ]
    },
    {
     "name": "stdout",
     "output_type": "stream",
     "text": [
      "(1.0, -33.76707913762656, 18.04827208283377, None, None)\n",
      "5000 2500\n",
      "(1.0, -21.459638047689328, 18.076452368361675, None, None)\n",
      "5000 4500\n",
      "(0.9999999985993719, -5.942840131252328, 18.070963405180933, None, None)\n",
      "5000 5500\n",
      "(0.006563808438106312, 2.4802883627588637, 18.18466123033437, None, None)\n",
      "5000 7500\n",
      "(9.94762269708844e-62, 16.536915346353176, 18.184910088335723, None, None)\n",
      "5000 10000\n",
      "(1.3810688007539785e-153, 26.37346893763353, 18.302347724164473, None, None)\n"
     ]
    }
   ],
   "source": [
    "import numpy as np\n",
    "for vae2_size in vae2_sizes:\n",
    "    print(vae1_size, vae2_size)\n",
    "    for i in range(n_trials):\n",
    "        vae1 = VAE(in_dim, latent_dim, hidden_dim)\n",
    "        vae1.load_state_dict(torch.load(size_to_output_dir(vae1_size, i) + \"/checkpoint.pt\", map_location=device))\n",
    "        vae2 = VAE(in_dim, latent_dim, hidden_dim)\n",
    "        vae2.load_state_dict(torch.load(size_to_output_dir(vae2_size, i) + \"/checkpoint.pt\", map_location=device))\n",
    "        idcs = np.random.randint(X.shape[0], size=n_samples)\n",
    "        Y = vae1.sample(n_samples).cpu().numpy()\n",
    "        Z = vae2.sample(n_samples).cpu().numpy()\n",
    "        print(MMD_3_Sample_Test(X[idcs], Y, Z))"
   ]
  },
  {
   "cell_type": "code",
   "execution_count": 39,
   "metadata": {},
   "outputs": [
    {
     "data": {
      "text/plain": [
       "Text(0.5, 0, 'Ratio Training Samples for Encoder 2 and Training Samples Encoder 1')"
      ]
     },
     "execution_count": 39,
     "metadata": {},
     "output_type": "execute_result"
    },
    {
     "data": {
      "image/png": "[encoded data removed]",
      "text/plain": [
       "<Figure size 640x480 with 1 Axes>"
      ]
     },
     "metadata": {},
     "output_type": "display_data"
    }
   ],
   "source": [
    "import matplotlib.pyplot as plt\n",
    "for vae2_size_factor, vae2_score in zip(vae2_size_factors, vae2_scores):\n",
    "    plt.plot([vae2_size_factor], [vae2_score], \"o\")\n",
    "plt.hline(vae1_score, xmin=min(vae2_size_factors), xmax=max(vae2_size_factors))\n",
    "plt.ylabel(\"Accuracy\")\n",
    "plt.xlabel(\"Ratio Training Samples for Encoder 2 and Training Samples Encoder 1\")"
   ]
  },
  {
   "cell_type": "code",
   "execution_count": null,
   "metadata": {},
   "outputs": [],
   "source": []
  }
 ],
 "metadata": {
  "kernelspec": {
   "display_name": "default",
   "language": "python",
   "name": "python3"
  },
  "language_info": {
   "codemirror_mode": {
    "name": "ipython",
    "version": 3
   },
   "file_extension": ".py",
   "mimetype": "text/x-python",
   "name": "python",
   "nbconvert_exporter": "python",
   "pygments_lexer": "ipython3",
   "version": "3.9.18"
  }
 },
 "nbformat": 4,
 "nbformat_minor": 2
}
