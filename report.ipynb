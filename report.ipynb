{
 "cells": [
  {
   "cell_type": "markdown",
   "metadata": {},
   "source": [
    "# VAE on MNIST: experiment with train size varying"
   ]
  },
  {
   "cell_type": "markdown",
   "metadata": {},
   "source": [
    "File with experiment reproducing: https://github.com/Natifick/StatsProject/blob/main/exp_train_size_varying.ipynb"
   ]
  },
  {
   "cell_type": "markdown",
   "metadata": {},
   "source": [
    "The idea is to verify that proposed test results cohere with our understandanding of generation modeling.\n",
    "\n",
    "For that we fix a model architecture among all considered models.\n",
    "\n",
    "Also we fix train size for reference model (as 5k images)\n",
    "\n",
    "For the second model we vary it with the following factor wrt reference size: $[0.3, 0.5, 0.9, 1.1, 1.5, 2.0]$.\n",
    "\n",
    "We expect that the larger train size the more frequently corresponding model will be chosen by the test."
   ]
  },
  {
   "cell_type": "markdown",
   "metadata": {},
   "source": [
    "As you can see in the graph the expectations are being met.\n",
    "\n",
    "The larger is train size the better is model (since higher accuracy) the more preferable this model by the test."
   ]
  },
  {
   "cell_type": "markdown",
   "metadata": {},
   "source": [
    "# VAE on MNIST: experiment with model complexity vayring"
   ]
  },
  {
   "cell_type": "markdown",
   "metadata": {},
   "source": [
    "File with experiment reproducing: https://github.com/Natifick/StatsProject/blob/main/VAE_experiments.ipynb"
   ]
  },
  {
   "cell_type": "markdown",
   "metadata": {},
   "source": [
    "The idea is ideologically the same: we upgrade model and see that it become more preferable than it was.\n",
    "\n",
    "Here we vary a model complexity (since, loosely speaking, the higher complexity the better model is.)"
   ]
  },
  {
   "cell_type": "markdown",
   "metadata": {},
   "source": [
    "Again we can see that test prefer models that are more generalizible. As expected."
   ]
  }
 ],
 "metadata": {
  "language_info": {
   "name": "python"
  }
 },
 "nbformat": 4,
 "nbformat_minor": 2
}
