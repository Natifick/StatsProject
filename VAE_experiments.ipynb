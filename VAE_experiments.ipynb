{
 "cells": [
  {
   "cell_type": "code",
   "execution_count": 12,
   "id": "d0eef196",
   "metadata": {},
   "outputs": [],
   "source": [
    "import torch\n",
    "\n",
    "import numpy as np\n",
    "import matplotlib.pyplot as plt\n",
    "from sklearn.decomposition import PCA\n",
    "\n",
    "from mmd import MMD_3_Sample_Test\n",
    "from train_vae import train_vae, MNISTDataset\n",
    "\n",
    "seed=42\n",
    "np.random.seed(seed)"
   ]
  },
  {
   "cell_type": "markdown",
   "id": "8e6cf187",
   "metadata": {},
   "source": [
    "## Get models"
   ]
  },
  {
   "cell_type": "code",
   "execution_count": 13,
   "id": "04c8ea5c",
   "metadata": {},
   "outputs": [],
   "source": [
    "dataset = MNISTDataset()"
   ]
  },
  {
   "cell_type": "code",
   "execution_count": 17,
   "id": "88e8f321",
   "metadata": {},
   "outputs": [],
   "source": [
    "train = lambda latent_dim, hidden_dim=None, train_size=None: train_vae(\n",
    "        ds_name='mnist',\n",
    "        in_dim=28*28,\n",
    "        latent_dim=latent_dim,\n",
    "        hidden_dim = hidden_dim,\n",
    "        train_size = train_size,\n",
    "        device = \"cuda\",\n",
    "        save_dir = None,\n",
    "    )"
   ]
  },
  {
   "cell_type": "code",
   "execution_count": 18,
   "id": "8f7fbc7b",
   "metadata": {
    "scrolled": true
   },
   "outputs": [
    {
     "name": "stdout",
     "output_type": "stream",
     "text": [
      "output_dir: ./mnist_784_512_None\n"
     ]
    }
   ],
   "source": [
    "VAE1 = train(512)"
   ]
  },
  {
   "cell_type": "code",
   "execution_count": 19,
   "id": "d9612819",
   "metadata": {},
   "outputs": [
    {
     "name": "stdout",
     "output_type": "stream",
     "text": [
      "output_dir: ./mnist_784_256_None\n"
     ]
    }
   ],
   "source": [
    "VAE2 = train(256)"
   ]
  },
  {
   "cell_type": "code",
   "execution_count": 22,
   "id": "45e5c60d",
   "metadata": {},
   "outputs": [],
   "source": [
    "def reduce_dim(X, new_dim = None):\n",
    "    if new_dim is None:\n",
    "        return X\n",
    "    pca = PCA(new_dim)\n",
    "    X_pca = pca.fit_transform(X)\n",
    "    return X_pca"
   ]
  },
  {
   "cell_type": "code",
   "execution_count": 24,
   "id": "9f24f9be",
   "metadata": {},
   "outputs": [],
   "source": [
    "def extract_data(dataset, vae1, vae2, count, new_dim=None):\n",
    "    idx = np.random.choice(len(dataset), N, replace=False)\n",
    "    X = dataset.data[idx]\n",
    "    \n",
    "    prior = torch.randn(count, vae1.latent_dim, device=vae1.device)\n",
    "    Y = vae1.decoder(prior).cpu().detach().numpy()\n",
    "    \n",
    "    prior = torch.randn(count, vae2.latent_dim, device=vae2.device)\n",
    "    Z = vae2.decoder(prior).cpu().detach().numpy()\n",
    "    return reduce_dim(X, new_dim), reduce_dim(Y, new_dim), reduce_dim(Z, new_dim)"
   ]
  },
  {
   "cell_type": "code",
   "execution_count": 27,
   "id": "dfdbfaa1",
   "metadata": {},
   "outputs": [],
   "source": [
    "N = 1000\n",
    "dim = 15\n",
    "X, Y, Z = extract_data(dataset, VAE1, VAE2, N, dim)"
   ]
  },
  {
   "cell_type": "code",
   "execution_count": 28,
   "id": "6f4d02da",
   "metadata": {
    "scrolled": false
   },
   "outputs": [
    {
     "name": "stdout",
     "output_type": "stream",
     "text": [
      "1.4168418829888398e-182\n"
     ]
    }
   ],
   "source": [
    "mmd = MMD_3_Sample_Test(X, Y, Z)\n",
    "pvalue, _, _, _, _ = mmd\n",
    "print(pvalue)"
   ]
  },
  {
   "cell_type": "markdown",
   "id": "8fd81459",
   "metadata": {},
   "source": [
    "P-value is small - reject Null-hypothesis, therefore the first model is better. That's true (latent space is much bigger"
   ]
  },
  {
   "cell_type": "code",
   "execution_count": 29,
   "id": "e08e8fcf",
   "metadata": {
    "scrolled": true
   },
   "outputs": [
    {
     "name": "stdout",
     "output_type": "stream",
     "text": [
      "0.43992528050229845\n"
     ]
    }
   ],
   "source": [
    "# sanity-check: if we sample from the same model, p-value should be high\n",
    "X, Y, Z = extract_data(dataset, VAE2, VAE2, N, dim)\n",
    "mmd = MMD_3_Sample_Test(X, Y, Z)\n",
    "pvalue, _, _, _, _ = mmd\n",
    "print(pvalue)\n",
    "assert pvalue  > 0.1"
   ]
  },
  {
   "cell_type": "code",
   "execution_count": 30,
   "id": "732c3688",
   "metadata": {},
   "outputs": [
    {
     "name": "stdout",
     "output_type": "stream",
     "text": [
      "1.0\n"
     ]
    }
   ],
   "source": [
    "# sanity-check: if we give samples from the same dataset, it should give high p-value\n",
    "N = 10_000\n",
    "\n",
    "idx = np.random.choice(len(dataset), N, replace=False)\n",
    "X = dataset.data[idx]\n",
    "idx = np.random.choice(len(dataset), N, replace=False)\n",
    "Y = dataset.data[idx]\n",
    "prior = torch.randn(N, VAE2.latent_dim, device=VAE2.device)\n",
    "Z = VAE2.decoder(prior).cpu().detach().numpy()\n",
    "\n",
    "mmd = MMD_3_Sample_Test(reduce_dim(X, dim), reduce_dim(Y, dim), reduce_dim(Z, dim))\n",
    "pvalue, _, _, _, _ = mmd\n",
    "print(pvalue)"
   ]
  },
  {
   "cell_type": "markdown",
   "id": "160c923b",
   "metadata": {},
   "source": [
    "## Experiments\n",
    "Let's try train models with different parameters and see, how that affects the results"
   ]
  },
  {
   "cell_type": "code",
   "execution_count": 33,
   "id": "a40da818",
   "metadata": {},
   "outputs": [
    {
     "name": "stdout",
     "output_type": "stream",
     "text": [
      "output_dir: ./mnist_784_20_400\n",
      "output_dir: ./mnist_784_5_200\n",
      "latent_dim=5, hidden_dim=200, p_val=0.00000\n",
      "output_dir: ./mnist_784_20_200\n",
      "latent_dim=20, hidden_dim=200, p_val=0.00000\n",
      "output_dir: ./mnist_784_50_400\n",
      "latent_dim=50, hidden_dim=400, p_val=0.00000\n",
      "output_dir: ./mnist_784_20_800\n",
      "latent_dim=20, hidden_dim=800, p_val=0.99522\n",
      "output_dir: ./mnist_784_50_800\n",
      "latent_dim=50, hidden_dim=800, p_val=0.00000\n"
     ]
    }
   ],
   "source": [
    "# Fix large N, to make tests more \"stable\"\n",
    "N =5_000\n",
    "\n",
    "# VAE2 is fixed with hidden_size=400 and latent=20\n",
    "VAE2 = train(20, 400)\n",
    "# hidden_space and latent for VAE1\n",
    "grid = [(200, 5), (200, 20), (400, 50), (800, 20), (800, 50)]\n",
    "\n",
    "results = []\n",
    "for hidden_dim, latent_dim in grid:\n",
    "    VAE1 = train(latent_dim=latent_dim,\n",
    "                 hidden_dim=hidden_dim)\n",
    "    X, Y, Z = extract_data(dataset, VAE1, VAE2, N, new_dim=15)\n",
    "    mmd = MMD_3_Sample_Test(reduce_dim(X, dim), reduce_dim(Y, dim), reduce_dim(Z, dim))\n",
    "    results.append(mmd)\n",
    "    print(f\"latent_dim={latent_dim}, hidden_dim={hidden_dim}, p_val={mmd[0]:.5f}\")"
   ]
  },
  {
   "cell_type": "code",
   "execution_count": null,
   "id": "7eea6985",
   "metadata": {},
   "outputs": [],
   "source": []
  }
 ],
 "metadata": {
  "kernelspec": {
   "display_name": "bayes-kernel",
   "language": "python",
   "name": "bayes-kernel"
  },
  "language_info": {
   "codemirror_mode": {
    "name": "ipython",
    "version": 3
   },
   "file_extension": ".py",
   "mimetype": "text/x-python",
   "name": "python",
   "nbconvert_exporter": "python",
   "pygments_lexer": "ipython3",
   "version": "3.10.13"
  },
  "toc": {
   "base_numbering": 1,
   "nav_menu": {},
   "number_sections": true,
   "sideBar": true,
   "skip_h1_title": false,
   "title_cell": "Table of Contents",
   "title_sidebar": "Contents",
   "toc_cell": false,
   "toc_position": {},
   "toc_section_display": true,
   "toc_window_display": false
  }
 },
 "nbformat": 4,
 "nbformat_minor": 5
}
